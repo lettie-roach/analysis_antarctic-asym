{
 "cells": [
  {
   "cell_type": "code",
   "execution_count": 1,
   "id": "9a4e0b7c-282b-433f-a0fe-24ec44041a60",
   "metadata": {},
   "outputs": [
    {
     "data": {
      "text/plain": [
       "<xarray.core.options.set_options at 0x2ae347f54880>"
      ]
     },
     "execution_count": 1,
     "metadata": {},
     "output_type": "execute_result"
    }
   ],
   "source": [
    "import numpy as np\n",
    "import xarray as xr\n",
    "import matplotlib.pyplot as plt\n",
    "import os\n",
    "import pandas as pd\n",
    "from scipy import stats\n",
    "import sys\n",
    "sys.path.insert(1, '/glade/u/home/lettier/analysis/analysis_antarctic-asym/analysis/')\n",
    "import asym_funcs as af\n",
    "xr.set_options(keep_attrs=True)"
   ]
  },
  {
   "cell_type": "code",
   "execution_count": 2,
   "id": "154d0936-5b79-478d-80f9-80d1ff4f058c",
   "metadata": {},
   "outputs": [],
   "source": [
    "sy = 1979\n",
    "ey = 1998"
   ]
  },
  {
   "cell_type": "code",
   "execution_count": 3,
   "id": "1339a758-bcc0-480b-b58c-443ee750f2e6",
   "metadata": {},
   "outputs": [],
   "source": [
    "def fix_lp_yr(ds):\n",
    "    \"\"\"\n",
    "    If there are 366 days, interpolate them over 365 days\n",
    "    For all cases, set time cooridnate to 1 to 365\n",
    "    \"\"\"\n",
    "    if len(ds.time) == 366:\n",
    "        listda = []\n",
    "        for var in ds:\n",
    "            to_interp = ds[var].values\n",
    "            new_data = np.interp(np.linspace(1,365,365), np.linspace(1,365,366), to_interp)\n",
    "            newds = xr.DataArray(new_data, dims='time', coords = {'time':np.arange(1,366,1)}).to_dataset(name=var)\n",
    "            newds.attrs = ds.attrs\n",
    "            newds[var].attrs = ds[var].attrs\n",
    "            listda.append(newds)\n",
    "\n",
    "        newds = xr.merge(listda)\n",
    "        \n",
    "    else:\n",
    "        newds = ds.copy()\n",
    "        newds['time'] =  np.arange(1,366,1)\n",
    "            \n",
    "    return newds"
   ]
  },
  {
   "cell_type": "markdown",
   "id": "ea0d95d1-b473-4e49-a92b-da5685a63e16",
   "metadata": {},
   "source": [
    "Get CDR observations"
   ]
  },
  {
   "cell_type": "code",
   "execution_count": 4,
   "id": "b7dc950d-5f3b-4038-866f-61b7db082c00",
   "metadata": {},
   "outputs": [],
   "source": [
    "mydir = '/glade/work/lettier/CDRv4/day/processed/'"
   ]
  },
  {
   "cell_type": "code",
   "execution_count": 5,
   "id": "796727e5-1e1c-46ea-aa0c-0fe61ee356ae",
   "metadata": {},
   "outputs": [],
   "source": [
    "listds = []\n",
    "for year in np.arange(1979,2019,1):\n",
    "    ds = xr.open_dataset(mydir+'sia_cdr_daily_nhsh_'+str(year)+'_f17_v04r00.nc')\n",
    "    ds = fix_lp_yr(ds)\n",
    "    ds['year'] = year\n",
    "    ds = ds.set_coords('year')\n",
    "    listds.append(ds)\n",
    "ds = xr.concat(listds,dim='year')\n",
    "ds = ds.interpolate_na(dim='time')\n",
    "ds.to_netcdf('../processed/sia_sie_daily_CDRv4_1979-2018.nc')"
   ]
  },
  {
   "cell_type": "markdown",
   "id": "e1569cec-e90d-476b-a75c-8719fd823da5",
   "metadata": {},
   "source": [
    "CMIP6 data"
   ]
  },
  {
   "cell_type": "code",
   "execution_count": 6,
   "id": "10d7f080-2222-4fd4-95ad-437c594c7b08",
   "metadata": {},
   "outputs": [
    {
     "name": "stdout",
     "output_type": "stream",
     "text": [
      "<xarray.Dataset>\n",
      "Dimensions:  (time: 365, names: 20)\n",
      "Coordinates:\n",
      "  * time     (time) int64 1 2 3 4 5 6 7 8 9 ... 358 359 360 361 362 363 364 365\n",
      "  * names    (names) <U15 'ACCESS-CM2' 'BCC-CSM2-MR' ... 'SAM0-UNICON'\n",
      "Data variables:\n",
      "    sia_nh   (names, time) float64 13.74 13.8 13.87 13.94 ... 14.22 14.26 14.3\n",
      "    sie_nh   (names, time) float64 14.35 14.42 14.49 14.56 ... 14.89 14.94 14.99\n",
      "    sia_sh   (names, time) float64 3.765 3.592 3.427 3.267 ... 9.525 9.363 9.203\n",
      "    sie_sh   (names, time) float64 5.788 5.541 5.312 5.093 ... 14.5 14.33 14.15\n",
      "Attributes: (12/48)\n",
      "    Conventions:            CF-1.7 CMIP-6.2\n",
      "    activity_id:            CMIP\n",
      "    branch_method:          standard\n",
      "    branch_time_in_child:   0.0\n",
      "    branch_time_in_parent:  0.0\n",
      "    creation_date:          2020-08-14T05:16:01Z\n",
      "    ...                     ...\n",
      "    variant_label:          r1i1p1f1\n",
      "    version:                v20200814\n",
      "    license:                CMIP6 model data produced by CSIRO is licensed un...\n",
      "    cmor_version:           3.4.0\n",
      "    tracking_id:            hdl:21.14100/d41f7f7c-c52a-4989-9ae9-0fa208f37079\n",
      "    processed:              processed by Lettie Roach, Nov 2021\n"
     ]
    }
   ],
   "source": [
    "mydir = '/glade/work/lettier/CMIP6/historical/processed/day/cmip6_dailysia/'\n",
    "myfiles = sorted([f for f in os.listdir(mydir) if '.nc' in f])\n",
    "\n",
    "time_lpyr = xr.open_dataset(mydir+'sia_sie_SIday_historical_ACCESS-CM2_r1i1p1f1_gn_1978-2014.nc').time\n",
    "time_nolpyr = xr.open_dataset(mydir+'sia_sie_SIday_historical_CNRM-CM6-1_r1i1p1f2_gn_1978-2014.nc').time\n",
    "\n",
    "\n",
    "listds = []\n",
    "for f in myfiles:\n",
    "    \n",
    "    ds = xr.open_dataset(mydir+f)\n",
    "    if len(ds.time) == len(time_lpyr): # Make time coordinates consistent across models\n",
    "        ds['time'] = time_lpyr\n",
    "    else:\n",
    "        ds['time'] = time_nolpyr\n",
    "    if 'type' in ds:\n",
    "        ds = ds.drop('type')\n",
    "        \n",
    "    listyrds = []\n",
    "    for year in np.arange(sy,ey+1,1): # interpolate data for leap years to 365-day year\n",
    "        yrds = ds.sel(time=str(year))\n",
    "        yrds = fix_lp_yr(yrds)\n",
    "        yrds['year'] = year\n",
    "        yrds = yrds.set_coords('year')\n",
    "        yrds['names'] = f.split('_')[4]\n",
    "        yrds = yrds.set_coords('names')\n",
    "  \n",
    "        listyrds.append(yrds)\n",
    "    ds = xr.concat(listyrds,dim='year')\n",
    "    ds = ds.mean(dim='year') # make climatology\n",
    "    listds.append(ds)\n",
    "\n",
    "ds = xr.concat(listds,dim='names')\n",
    "ds.attrs['processed'] = 'processed by Lettie Roach, Nov 2021'\n",
    "print(ds)\n",
    "ds.to_netcdf('../processed/sia_sie_daily_CMIP6_1979-1998clim.nc')"
   ]
  },
  {
   "cell_type": "markdown",
   "id": "fdf2dd81-dcc2-486f-91ef-9500b527bfcd",
   "metadata": {},
   "source": [
    "Then CMIP5"
   ]
  },
  {
   "cell_type": "code",
   "execution_count": 7,
   "id": "b273b482-b758-4493-9326-3357c9f39e6e",
   "metadata": {},
   "outputs": [
    {
     "name": "stdout",
     "output_type": "stream",
     "text": [
      "<xarray.Dataset>\n",
      "Dimensions:  (names: 27, time: 365)\n",
      "Coordinates:\n",
      "  * names    (names) <U14 'ACCESS1-0' 'ACCESS1-3' ... 'bcc-csm1-1' 'inmcm4'\n",
      "  * time     (time) int64 1 2 3 4 5 6 7 8 9 ... 358 359 360 361 362 363 364 365\n",
      "Data variables:\n",
      "    sia_nh   (names, time) float64 12.61 12.65 12.7 12.75 ... 12.17 12.23 12.27\n",
      "    sia_sh   (names, time) float64 3.256 3.124 2.998 2.884 ... 2.198 2.116 2.034\n",
      "    sie_nh   (names, time) float64 13.01 13.05 13.1 13.15 ... 13.61 13.68 13.75\n",
      "    sie_sh   (names, time) float64 5.106 4.916 4.733 4.558 ... 3.428 3.293 3.166\n",
      "Attributes:\n",
      "    processed:  processed by Lettie Roach, Nov 2021\n"
     ]
    }
   ],
   "source": [
    "mydir = '/glade/work/lettier/CMIP5/historical/processed/day/'\n",
    "myfiles = sorted([f for f in os.listdir(mydir) if '.nc' in f and 'HadG' not in f])\n",
    "\n",
    "time_lpyr = xr.open_dataset(mydir+'sia_ACCESS1-0_1980-2005.nc').sel(time=slice('1980',str(ey))).time\n",
    "time_nolpyr = xr.open_dataset(mydir+'sia_CSIRO-Mk3-6-0_1980-2005.nc').sel(time=slice('1980',str(ey))).time\n",
    "\n",
    "# Make time indices the same across different models (some include leap days and others do not), set model names as coordinate\n",
    "listds = []\n",
    "for f in myfiles:\n",
    "    ds = xr.open_dataset(mydir+f).sel(time=slice(str(sy),str(ey)))\n",
    "    if len(ds.time) == len(time_lpyr):\n",
    "        ds['time'] = time_lpyr\n",
    "    else:\n",
    "        ds['time'] = time_nolpyr\n",
    "    ds['names'] = f.split('_')[1]\n",
    "    ds = ds.set_coords('names')\n",
    "    if 'type' in ds:\n",
    "        ds = ds.drop('type')\n",
    "    \n",
    "    listyrds = []\n",
    "    for year in np.arange(1980,ey+1,1):\n",
    "        yrds = ds.sel(time=str(year))\n",
    "        yrds = fix_lp_yr(yrds)\n",
    "        yrds['year'] = year\n",
    "        yrds = yrds.set_coords('year')\n",
    "        listyrds.append(yrds)\n",
    "    ds = xr.concat(listyrds,dim='year')\n",
    "    ds = ds.mean(dim='year')/1e6\n",
    "    listds.append(ds)\n",
    "\n",
    "\n",
    "ds = xr.concat(listds,dim='names')\n",
    "ds.attrs = {}\n",
    "ds.attrs['processed'] = 'processed by Lettie Roach, Nov 2021'\n",
    "for var in ds:\n",
    "    ds[var].attrs['units'] = '10^6 km^2'\n",
    "print(ds)\n",
    "ds.to_netcdf('../processed/sia_sie_daily_CMIP5_1980-1998clim.nc')"
   ]
  },
  {
   "cell_type": "markdown",
   "id": "78e6abb8-748c-47e6-b51a-dcdc5bbd5f3f",
   "metadata": {},
   "source": [
    "Compute zonal mean SST from reanalysis"
   ]
  },
  {
   "cell_type": "code",
   "execution_count": 8,
   "id": "e2dc7c8a-2f9c-46d8-aa7a-55ae3b9c02b6",
   "metadata": {},
   "outputs": [],
   "source": [
    "wdir = '/glade/work/lettier/'\n",
    "sstds = xr.open_dataset(wdir+'NOAA-OISST/sst.mnmean.nc')\n",
    "\n",
    "def get_zonal_mean_SH_clim(sstds):\n",
    "\n",
    "    sstds = sstds.assign_coords(lon=(((sstds.lon + 180) % 360) - 180)).sortby('lon') # make longitudes consistent\n",
    "\n",
    "    # compute zonal mean SST over ocean areas\n",
    "    lats = sstds.lat.values\n",
    "    lons = sstds.lon.values\n",
    "    garea, _, _ = af.grid_area_regll(lats,lons)\n",
    "    garea = xr.DataArray(-garea,dims=['lat','lon'],coords = {'lat':lats, 'lon':lons}) # compute grid area\n",
    "    landmask = xr.open_dataset(wdir+'/HADISST/landmask.nc').sftlf\n",
    "    landmask = landmask.rename({'latitude':'lat','longitude':'lon'})\n",
    "    oarea = (1.-landmask)*garea # get ocean area\n",
    "    sst_zonal = (sstds.sst*oarea).sum(dim='lon')/oarea.sum(dim='lon') \n",
    "    \n",
    "    # compute climatology\n",
    "    sst_zonal_clim = sst_zonal.sel(time=slice('1982','1998')).groupby('time.month').mean(dim='time') \n",
    "    \n",
    "    # drop NH\n",
    "    sst_zonal_clim_sh = sst_zonal_clim.where(sst_zonal_clim.lat<0,drop=True)\n",
    "    sst_zonal_clim_sh['lat'] = -sst_zonal_clim_sh.lat\n",
    "    \n",
    "    return sst_zonal_clim_sh\n",
    "\n",
    "\n",
    "def interpolate_monthly_sst_to_daily (obdata):\n",
    "    \n",
    "    obdata = obdata.rename({'month':'time'})\n",
    "    obdata = xr.concat([obdata.isel(time=-1),obdata,obdata.isel(time=0)],dim='time') # choose a random (non leap) year\n",
    "    obdata['time'] = pd.date_range('15/12/1998',periods=14,freq=pd.DateOffset(months=1))\n",
    "    obdata = obdata.resample(time='1D').interpolate('linear').sel(time='1999')\n",
    "    \n",
    "    obdata['time'] = np.arange(1,366,1)\n",
    "    shdays = np.append(np.arange(182,366,1),np.arange(1,182,1)) # flip time axis (for SH)\n",
    "    obdata = obdata.sel(time=shdays)\n",
    "    obdata['time'] = np.arange(1,366,1)\n",
    "    obdata = obdata.rename({'time':'day'})\n",
    "    obdata = obdata.to_dataset(name='sst')\n",
    "    \n",
    "    return obdata\n",
    "    \n"
   ]
  },
  {
   "cell_type": "code",
   "execution_count": 9,
   "id": "efcbc9e8-0980-4541-b148-f1110bcf6ad6",
   "metadata": {},
   "outputs": [],
   "source": [
    "sst_zonal_clim_sh = get_zonal_mean_SH_clim(sstds)\n",
    "ds = interpolate_monthly_sst_to_daily (sst_zonal_clim_sh)\n",
    "ds.to_netcdf('../processed/zonalSST_NOAA-OISST_1982-1998clim.nc')"
   ]
  }
 ],
 "metadata": {
  "kernelspec": {
   "display_name": "Python [conda env:anaconda3-myenv]",
   "language": "python",
   "name": "conda-env-anaconda3-myenv-py"
  },
  "language_info": {
   "codemirror_mode": {
    "name": "ipython",
    "version": 3
   },
   "file_extension": ".py",
   "mimetype": "text/x-python",
   "name": "python",
   "nbconvert_exporter": "python",
   "pygments_lexer": "ipython3",
   "version": "3.8.5"
  }
 },
 "nbformat": 4,
 "nbformat_minor": 5
}
