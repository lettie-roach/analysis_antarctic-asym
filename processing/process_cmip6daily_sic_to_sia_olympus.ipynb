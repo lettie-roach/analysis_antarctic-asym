{
 "cells": [
  {
   "cell_type": "code",
   "execution_count": 1,
   "metadata": {},
   "outputs": [],
   "source": [
    "import numpy as np\n",
    "import xarray as xr\n",
    "import matplotlib.pyplot as plt\n",
    "import os\n",
    "import pandas as pd"
   ]
  },
  {
   "cell_type": "code",
   "execution_count": 2,
   "metadata": {},
   "outputs": [],
   "source": [
    "eddir = '/home/disk/eos8/ed/cmip6/siconc_day_historical/'"
   ]
  },
  {
   "cell_type": "code",
   "execution_count": 3,
   "metadata": {},
   "outputs": [],
   "source": [
    "allfiles = sorted([f for f in os.listdir(eddir) if '.nc' in f])"
   ]
  },
  {
   "cell_type": "code",
   "execution_count": 4,
   "metadata": {},
   "outputs": [],
   "source": [
    "proceddir = '/home/disk/eos8/ed/cmip6/proc_si/'"
   ]
  },
  {
   "cell_type": "code",
   "execution_count": 5,
   "metadata": {},
   "outputs": [
    {
     "data": {
      "text/plain": [
       "'sia_sie_ACCESS-CM2_19500101_20100101.mat'"
      ]
     },
     "execution_count": 5,
     "metadata": {},
     "output_type": "execute_result"
    }
   ],
   "source": [
    "epfiles = sorted([f for f in os.listdir(proceddir) if '.mat' in f and 'CESM1' not in f])\n",
    "epfiles[0]"
   ]
  },
  {
   "cell_type": "code",
   "execution_count": 6,
   "metadata": {},
   "outputs": [],
   "source": [
    "emodels = sorted(list(set([f.split('_')[2] for f in epfiles])))"
   ]
  },
  {
   "cell_type": "code",
   "execution_count": 7,
   "metadata": {},
   "outputs": [
    {
     "data": {
      "text/plain": [
       "['ACCESS-CM2',\n",
       " 'BCC-CSM2-MR',\n",
       " 'BCC-ESM1',\n",
       " 'CESM2',\n",
       " 'CESM2-WACCM',\n",
       " 'CNRM-CM6-1',\n",
       " 'CNRM-ESM2-1',\n",
       " 'CanESM5',\n",
       " 'EC-Earth3',\n",
       " 'EC-Earth3-Veg',\n",
       " 'GFDL-CM4',\n",
       " 'IPSL-CM6A-LR',\n",
       " 'MIROC6',\n",
       " 'MPI-ESM-1-2-HAM',\n",
       " 'MPI-ESM1-2-HR',\n",
       " 'MPI-ESM1-2-LR',\n",
       " 'MRI-ESM2-0',\n",
       " 'NorESM2-LM',\n",
       " 'NorESM2-MM',\n",
       " 'SAM0-UNICON']"
      ]
     },
     "execution_count": 7,
     "metadata": {},
     "output_type": "execute_result"
    }
   ],
   "source": [
    "emodels"
   ]
  },
  {
   "cell_type": "code",
   "execution_count": 8,
   "metadata": {},
   "outputs": [],
   "source": [
    "gridfiles = os.listdir('GRIDS')"
   ]
  },
  {
   "cell_type": "code",
   "execution_count": 10,
   "metadata": {},
   "outputs": [
    {
     "name": "stdout",
     "output_type": "stream",
     "text": [
      "ACCESS-CM2\n",
      "BCC-CSM2-MR\n",
      "BCC-ESM1\n",
      "CESM2\n"
     ]
    },
    {
     "name": "stderr",
     "output_type": "stream",
     "text": [
      "/home/disk/atmos/lroach/anaconda3/lib/python3.8/site-packages/xarray/conventions.py:492: SerializationWarning: variable 'siconc' has multiple fill values {1e+20, 1e+20}, decoding all values to NaN.\n",
      "  new_vars[k] = decode_cf_variable(\n",
      "/home/disk/atmos/lroach/anaconda3/lib/python3.8/site-packages/xarray/conventions.py:492: SerializationWarning: variable 'areacello' has multiple fill values {1e+20, 1e+20}, decoding all values to NaN.\n",
      "  new_vars[k] = decode_cf_variable(\n"
     ]
    },
    {
     "name": "stdout",
     "output_type": "stream",
     "text": [
      "CESM2-WACCM\n"
     ]
    },
    {
     "name": "stderr",
     "output_type": "stream",
     "text": [
      "/home/disk/atmos/lroach/anaconda3/lib/python3.8/site-packages/xarray/conventions.py:492: SerializationWarning: variable 'siconc' has multiple fill values {1e+20, 1e+20}, decoding all values to NaN.\n",
      "  new_vars[k] = decode_cf_variable(\n",
      "/home/disk/atmos/lroach/anaconda3/lib/python3.8/site-packages/xarray/conventions.py:492: SerializationWarning: variable 'areacello' has multiple fill values {1e+20, 1e+20}, decoding all values to NaN.\n",
      "  new_vars[k] = decode_cf_variable(\n"
     ]
    },
    {
     "name": "stdout",
     "output_type": "stream",
     "text": [
      "CNRM-CM6-1\n",
      "CNRM-ESM2-1\n",
      "CanESM5\n",
      "EC-Earth3\n",
      "EC-Earth3-Veg\n",
      "IPSL-CM6A-LR\n",
      "MIROC6\n",
      "MPI-ESM-1-2-HAM\n",
      "MPI-ESM1-2-HR\n",
      "MPI-ESM1-2-LR\n",
      "MRI-ESM2-0\n",
      "NorESM2-LM\n",
      "NorESM2-MM\n",
      "SAM0-UNICON\n"
     ]
    }
   ],
   "source": [
    "for model in emodels[:]:\n",
    "    if model!='GFDL-CM4':\n",
    "        print(model)\n",
    "        myfiles = sorted([eddir+f for f in allfiles if model+'_' in f and 'r1i' in f])\n",
    "        gridfname = [f for f in gridfiles if model+'_' in f][0]\n",
    "        ens = myfiles[0].split('_')[6]\n",
    "\n",
    "        myfiles = [f for f in myfiles if ens in f]\n",
    "        ds = xr.open_mfdataset(myfiles).sel(time=slice('1978','2014'))\n",
    "\n",
    "        gds = xr.open_dataset('GRIDS/'+gridfname)\n",
    "        if 'CESM' in model: #CESM2 and SAM0 have 1e30 in latitude\n",
    "            gds = gds.rename({'nlon':'ni','nlat':'nj'})\n",
    "\n",
    "\n",
    "        mylat = [f for f in gds.coords if 'lat' in f][-1]\n",
    "        mylon = [f for f in gds.coords if 'lon' in f][-1]\n",
    "\n",
    "        gds[mylat]=ds[mylat]\n",
    "        gds[mylon]=ds[mylon]\n",
    "        mydims = [f for f in gds.areacello.dims]\n",
    "\n",
    "        ints = ds.siconc.copy()\n",
    "        ints = ints.where(ints>15.)\n",
    "        ints = ints.where(ints!=ints,1.)\n",
    "\n",
    "        sia_nh = ((ds.siconc/100.*gds.areacello).where(ds[mylat]>0.).sum(dim=mydims)/1e12).to_dataset(name='sia_nh')\n",
    "        sie_nh = ((ints*gds.areacello).where(ds[mylat]>0.).sum(dim=mydims)/1e12).to_dataset(name='sie_nh')\n",
    "        sia_sh = ((ds.siconc/100.*gds.areacello).where(ds[mylat]<0.).sum(dim=mydims)/1e12).to_dataset(name='sia_sh')\n",
    "        sie_sh = ((ints*gds.areacello).where(ds[mylat]<0.).sum(dim=mydims)/1e12).to_dataset(name='sie_sh')\n",
    "\n",
    "        outds = xr.merge([sia_nh, sie_nh, sia_sh, sie_sh])\n",
    "\n",
    "        outds.attrs = ds.attrs\n",
    "        outds.sia_nh.attrs['units'] = '10^6 km^2'\n",
    "        outds.sie_nh.attrs['units'] = '10^6 km^2'\n",
    "        outds.sia_sh.attrs['units'] = '10^6 km^2'\n",
    "        outds.sie_sh.attrs['units'] = '10^6 km^2'\n",
    "\n",
    "        outds.attrs['processed'] = 'Lettie Roach, 2021'\n",
    "        outds.to_netcdf('/home/disk/sipn/lroach/cmip6_dailysia/sia_sie_SIday_historical_'+model+'_'+ens+'_'+myfiles[0].split('_')[7]+'_1978-2014.nc')\n"
   ]
  },
  {
   "cell_type": "code",
   "execution_count": 11,
   "metadata": {},
   "outputs": [
    {
     "ename": "NameError",
     "evalue": "name 'sia' is not defined",
     "output_type": "error",
     "traceback": [
      "\u001b[0;31m---------------------------------------------------------------------------\u001b[0m",
      "\u001b[0;31mNameError\u001b[0m                                 Traceback (most recent call last)",
      "\u001b[0;32m<ipython-input-11-f190b6a0f92b>\u001b[0m in \u001b[0;36m<module>\u001b[0;34m\u001b[0m\n\u001b[0;32m----> 1\u001b[0;31m \u001b[0msia\u001b[0m\u001b[0;34m\u001b[0m\u001b[0;34m\u001b[0m\u001b[0m\n\u001b[0m",
      "\u001b[0;31mNameError\u001b[0m: name 'sia' is not defined"
     ]
    }
   ],
   "source": [
    "sia"
   ]
  },
  {
   "cell_type": "code",
   "execution_count": 12,
   "metadata": {},
   "outputs": [],
   "source": [
    "#GDFL grid"
   ]
  },
  {
   "cell_type": "code",
   "execution_count": 13,
   "metadata": {},
   "outputs": [
    {
     "name": "stdout",
     "output_type": "stream",
     "text": [
      "GFDL-CM4\n"
     ]
    }
   ],
   "source": [
    "for model in ['GFDL-CM4']:\n",
    "    print(model)\n",
    "    myfiles = sorted([eddir+f for f in allfiles if model+'_' in f and 'r1i' in f])\n",
    "    gridfname = [f for f in gridfiles if model+'_' in f][0]\n",
    "    ens = myfiles[0].split('_')[6]\n",
    "\n",
    "    myfiles = [f for f in myfiles if ens in f]\n",
    "    ds = xr.open_mfdataset(myfiles).sel(time=slice('1978','2014'))\n",
    "    \n",
    "    gds = xr.open_dataset('GRIDS/areacella_fx_GISS-E2-1-G-CC_piControl_r1i1p1f1_gn.nc')\n",
    "    if 'CESM' in model: #CESM2 and SAM0 have 1e30 in latitude\n",
    "        gds = gds.rename({'nlon':'ni','nlat':'nj'})\n",
    "           \n",
    "\n",
    "    mylat = [f for f in gds.coords if 'lat' in f][-1]\n",
    "    mylon = [f for f in gds.coords if 'lon' in f][-1]\n",
    "    \n",
    "    gds[mylat]=ds[mylat]\n",
    "    gds[mylon]=ds[mylon]\n",
    "    mydims = [f for f in gds.areacella.dims]\n",
    "    \n",
    "    ints = ds.siconc.copy()\n",
    "    ints = ints.where(ints>15.)\n",
    "    ints = ints.where(ints!=ints,1.)\n",
    "     \n",
    "    sia_nh = ((ds.siconc/100.*gds.areacella).where(ds[mylat]>0.).sum(dim=mydims)/1e12).to_dataset(name='sia_nh')\n",
    "    sie_nh = ((ints*gds.areacella).where(ds[mylat]>0.).sum(dim=mydims)/1e12).to_dataset(name='sie_nh')\n",
    "    sia_sh = ((ds.siconc/100.*gds.areacella).where(ds[mylat]<0.).sum(dim=mydims)/1e12).to_dataset(name='sia_sh')\n",
    "    sie_sh = ((ints*gds.areacella).where(ds[mylat]<0.).sum(dim=mydims)/1e12).to_dataset(name='sie_sh')\n",
    "    \n",
    "    outds = xr.merge([sia_nh, sie_nh, sia_sh, sie_sh])\n",
    "    \n",
    "    outds.attrs = ds.attrs\n",
    "    outds.sia_nh.attrs['units'] = '10^6 km^2'\n",
    "    outds.sie_nh.attrs['units'] = '10^6 km^2'\n",
    "    outds.sia_sh.attrs['units'] = '10^6 km^2'\n",
    "    outds.sie_sh.attrs['units'] = '10^6 km^2'\n",
    "    \n",
    "    outds.attrs['processed'] = 'Lettie Roach, 2021'\n",
    "    outds.to_netcdf('/home/disk/sipn/lroach/cmip6_dailysia/sia_sie_SIday_historical_'+model+'_'+ens+'_'+myfiles[0].split('_')[7]+'_1978-2014.nc')\n"
   ]
  },
  {
   "cell_type": "code",
   "execution_count": null,
   "metadata": {},
   "outputs": [],
   "source": []
  }
 ],
 "metadata": {
  "kernelspec": {
   "display_name": "Python 3",
   "language": "python",
   "name": "python3"
  },
  "language_info": {
   "codemirror_mode": {
    "name": "ipython",
    "version": 3
   },
   "file_extension": ".py",
   "mimetype": "text/x-python",
   "name": "python",
   "nbconvert_exporter": "python",
   "pygments_lexer": "ipython3",
   "version": "3.9.4"
  }
 },
 "nbformat": 4,
 "nbformat_minor": 4
}
