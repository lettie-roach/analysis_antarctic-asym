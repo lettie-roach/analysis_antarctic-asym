{
 "cells": [
  {
   "cell_type": "code",
   "execution_count": 1,
   "metadata": {},
   "outputs": [],
   "source": [
    "import numpy as np\n",
    "import xarray as xr\n",
    "import matplotlib.pyplot as plt\n",
    "import os"
   ]
  },
  {
   "cell_type": "code",
   "execution_count": 2,
   "metadata": {},
   "outputs": [],
   "source": [
    "ledir = '/glade/collections/cdg/data/cesmLE/CESM-CAM5-BGC-LE/ice/proc/tseries/daily/aice_d/'"
   ]
  },
  {
   "cell_type": "code",
   "execution_count": null,
   "metadata": {},
   "outputs": [
    {
     "name": "stdout",
     "output_type": "stream",
     "text": [
      "01\n",
      "02\n",
      "03\n",
      "04\n",
      "05\n",
      "06\n",
      "07\n",
      "08\n",
      "09\n",
      "10\n",
      "11\n",
      "12\n",
      "13\n",
      "14\n",
      "15\n",
      "16\n",
      "17\n",
      "18\n",
      "19\n",
      "20\n",
      "21\n",
      "22\n",
      "23\n",
      "24\n"
     ]
    }
   ],
   "source": [
    "%%time\n",
    "listds = []\n",
    "for e in range(1,36,1):\n",
    "    ens = str(e)\n",
    "    if e<10:\n",
    "        ens = '0'+str(e)\n",
    "    tmp = []\n",
    "    print(ens)\n",
    "    \n",
    "    varlist = []\n",
    "    for hemi in ['nh','sh']:\n",
    "        if e==35: # this one seems to have a weird time coordinate\n",
    "            ds = xr.open_mfdataset(ledir+'b.e11.B20TRC5CNBDRD.f09_g16.035.cice.h1.aice_d_'+hemi+'.19200101-20051231.nc').isel(time=slice(365*59-1,365*(59+22)-1))\n",
    "        else:\n",
    "            ds = xr.open_mfdataset(ledir+'b.e11.B20TRC5CNBDRD.f09_g16.0'+ens+'.cice.h1.aice_d_'+hemi+'.*-20051231.nc').sel(time=slice('1979-01','2000-12'))\n",
    "        ints = ds.aice_d.copy()\n",
    "        ints = ints.where(ints>15.)\n",
    "        ints = ints.where(ints!=ints,1.)\n",
    "        \n",
    "        if hemi=='nh':\n",
    "            mytarea = ds.tarea.where(ds.TLAT>0.)\n",
    "        else:\n",
    "            mytarea = ds.tarea.where(ds.TLAT<0.)\n",
    "        \n",
    "        sia = ((ds.aice_d/100.*mytarea).sum(dim=('ni','nj'))/1e12).to_dataset(name='sia_'+hemi).compute()\n",
    "        sie = ((ints*mytarea).sum(dim=('ni','nj'))/1e12).to_dataset(name='sie_'+hemi).compute()\n",
    "        varlist.append(sie)\n",
    "        varlist.append(sia)\n",
    "        \n",
    "\n",
    "    ds = xr.merge(varlist)\n",
    "    ds['names'] = 'LENS-'+ens\n",
    "    ds = ds.set_coords('names')\n",
    "\n",
    "    listds.append(ds)\n",
    "    "
   ]
  },
  {
   "cell_type": "code",
   "execution_count": null,
   "metadata": {},
   "outputs": [],
   "source": [
    "lends = xr.concat(listds,dim='names')"
   ]
  },
  {
   "cell_type": "code",
   "execution_count": null,
   "metadata": {},
   "outputs": [],
   "source": [
    "lends.sia_nh.attrs['units'] = '10^6 km^2'\n",
    "lends.sie_nh.attrs['units'] = '10^6 km^2'\n",
    "lends.sia_sh.attrs['units'] = '10^6 km^2'\n",
    "lends.sie_sh.attrs['units'] = '10^6 km^2'\n",
    "lends.attrs['processed'] = 'Lettie Roach, 2021'"
   ]
  },
  {
   "cell_type": "code",
   "execution_count": null,
   "metadata": {},
   "outputs": [],
   "source": [
    "lends.to_netcdf('~/analysis/analysis_antarctic-asym/sea-ice-seasonality/netcdf/sie_sia_daily_LENS_1979-2000.nc')"
   ]
  },
  {
   "cell_type": "code",
   "execution_count": null,
   "metadata": {},
   "outputs": [],
   "source": []
  }
 ],
 "metadata": {
  "kernelspec": {
   "display_name": "Python 3",
   "language": "python",
   "name": "python3"
  },
  "language_info": {
   "codemirror_mode": {
    "name": "ipython",
    "version": 3
   },
   "file_extension": ".py",
   "mimetype": "text/x-python",
   "name": "python",
   "nbconvert_exporter": "python",
   "pygments_lexer": "ipython3",
   "version": "3.8.5"
  }
 },
 "nbformat": 4,
 "nbformat_minor": 4
}
