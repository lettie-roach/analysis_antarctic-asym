{
 "cells": [
  {
   "cell_type": "code",
   "execution_count": 1,
   "id": "f96f7030-a001-4aeb-84a6-60c30a4ae5fc",
   "metadata": {},
   "outputs": [],
   "source": [
    "import numpy as np\n",
    "import xarray as xr\n",
    "import matplotlib.pyplot as plt\n",
    "import os\n",
    "import pandas as pd\n",
    "from scipy import stats\n",
    "xr.set_options(keep_attrs=True)\n",
    "import sys\n",
    "sys.path.insert(1, '/glade/u/home/lettier/analysis/analysis_antarctic-asym/analysis/')\n",
    "import asym_funcs as af\n"
   ]
  },
  {
   "cell_type": "code",
   "execution_count": 2,
   "id": "e8253509-d1bd-4acd-b3cf-45091896888d",
   "metadata": {},
   "outputs": [],
   "source": [
    "sy = 1979\n",
    "ey = 1998"
   ]
  },
  {
   "cell_type": "code",
   "execution_count": 3,
   "id": "20e41ac2-5647-40d6-abbb-743edcf57fcd",
   "metadata": {},
   "outputs": [],
   "source": [
    "sieds = xr.open_dataset('../processed/sia_sie_daily_CDRv4_1979-2018.nc')\n",
    "sieds = sieds[[f for f in sieds if 'sie' in f]]\n",
    "sieds = sieds.sel(year=slice(str(sy),str(ey))).mean(dim='year')"
   ]
  },
  {
   "cell_type": "code",
   "execution_count": 4,
   "id": "da978721-94ad-4976-ad99-9b0e8a5c05ac",
   "metadata": {},
   "outputs": [],
   "source": [
    "wdir = '/glade/work/lettier/'"
   ]
  },
  {
   "cell_type": "code",
   "execution_count": 5,
   "id": "10a7119a-5537-4924-a52e-0e65e7b2975b",
   "metadata": {},
   "outputs": [],
   "source": [
    "landmask = xr.open_dataset(wdir+'/HADISST/landmask.nc').sftlf\n",
    "\n",
    "\n",
    "lats = np.linspace(-89.5,89.5,10*180) # 0.1 degree grid\n",
    "lons = np.linspace(-179.5,179.5,10*360)\n",
    "\n",
    "garea, _, _ = af.grid_area_regll(lats,lons) # compute area of these grid cells\n",
    "ds = xr.DataArray(garea,dims=['latitude','longitude'],coords = {'latitude':lats, 'longitude':lons}).to_dataset(name='gridcellarea')\n",
    "\n",
    "landmaskhighres = landmask.interp(latitude=lats)\n",
    "landmaskhighres = landmaskhighres.interp(longitude=lons)\n",
    "\n",
    "oceanarea = (ds.gridcellarea*(1.-landmaskhighres)).sum(dim='longitude')\n",
    "oareanh = oceanarea.where(oceanarea.latitude>0.,drop=True)\n",
    "oareash = oceanarea.where(oceanarea.latitude<0.,drop=True)\n",
    "\n",
    "oareash['latitude'] = -oareash.latitude\n",
    "oareanh = oareanh.sel(latitude=oareanh.latitude[::-1])\n",
    "\n",
    "onhc = oareanh.cumsum(dim='latitude')\n",
    "oshc = oareash.cumsum(dim='latitude')\n",
    "\n",
    "# subtract sea ice extent from ocean area\n",
    "diffnh = (onhc - 1e6*sieds[[f for f in sieds.variables if 'nh' in f]])\n",
    "diffsh = (oshc - 1e6*sieds[[f for f in sieds.variables if 'sh' in f]])\n",
    "diffnh = diffnh.where(diffnh>0.)\n",
    "diffsh = diffsh.where(diffsh>0.)\n",
    "\n",
    "icedge_nh = (diffnh.latitude.where(diffnh==diffnh.min(dim='latitude')).max(dim='latitude'))\n",
    "icedge_sh = (diffsh.latitude.where(diffsh==diffsh.min(dim='latitude')).max(dim='latitude'))\n",
    "\n",
    "outds = xr.merge([icedge_nh, icedge_sh])\n",
    "outds.attrs['description'] = 'zonal-mean ice edge as computed from SIA/SIE obs product as listed'\n",
    "outds.attrs['units'] = 'deg'\n",
    "\n",
    "outds.to_netcdf('../processed/zonal_ice_edge_CDRv4_1979-1998clim.nc')"
   ]
  },
  {
   "cell_type": "code",
   "execution_count": null,
   "id": "a02bbf93-53c1-4249-b27c-9b2e57786857",
   "metadata": {},
   "outputs": [],
   "source": []
  }
 ],
 "metadata": {
  "kernelspec": {
   "display_name": "Python [conda env:anaconda3-myenv]",
   "language": "python",
   "name": "conda-env-anaconda3-myenv-py"
  },
  "language_info": {
   "codemirror_mode": {
    "name": "ipython",
    "version": 3
   },
   "file_extension": ".py",
   "mimetype": "text/x-python",
   "name": "python",
   "nbconvert_exporter": "python",
   "pygments_lexer": "ipython3",
   "version": "3.8.5"
  }
 },
 "nbformat": 4,
 "nbformat_minor": 5
}
