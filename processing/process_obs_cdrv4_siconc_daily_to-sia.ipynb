{
 "cells": [
  {
   "cell_type": "code",
   "execution_count": 1,
   "metadata": {},
   "outputs": [
    {
     "data": {
      "text/plain": [
       "<xarray.core.options.set_options at 0x2ae842f45d60>"
      ]
     },
     "execution_count": 1,
     "metadata": {},
     "output_type": "execute_result"
    }
   ],
   "source": [
    "import xarray as xr\n",
    "import numpy as np\n",
    "import matplotlib.pyplot as plt\n",
    "import os\n",
    "xr.set_options(keep_attrs=True)"
   ]
  },
  {
   "cell_type": "code",
   "execution_count": 2,
   "metadata": {},
   "outputs": [],
   "source": [
    "mydir = '/glade/work/lettier/CDRv4/day/'\n",
    "myvariables = ['cdr_seaice_conc','nsidc_bt_seaice_conc','nsidc_nt_seaice_conc']"
   ]
  },
  {
   "cell_type": "code",
   "execution_count": 3,
   "metadata": {},
   "outputs": [],
   "source": [
    "nh_area = np.fromfile('/glade/work/lettier/GRIDS/psn25area_v3.dat',dtype='<i4').reshape([448,304])/1000\n",
    "sh_area = xr.open_dataset('/glade/work/lettier/GRIDS/0_pss25area_netcdf_bt_.nc').areacello.values"
   ]
  },
  {
   "cell_type": "code",
   "execution_count": 4,
   "metadata": {},
   "outputs": [],
   "source": [
    "sample_ds_nh = xr.open_dataset(mydir+'nhdl/1980/seaice_conc_daily_nh_19801231_n07_v04r00.nc').isel(tdim=0)\n",
    "sample_ds_sh = xr.open_dataset(mydir+'shdl/1980/seaice_conc_daily_sh_19801231_n07_v04r00.nc').isel(tdim=0)"
   ]
  },
  {
   "cell_type": "code",
   "execution_count": 5,
   "metadata": {},
   "outputs": [],
   "source": [
    "nhgrid = xr.DataArray(nh_area, dims=['y','x'], coords = {'ygrid':sample_ds_nh.ygrid, 'xgrid':sample_ds_nh.xgrid} ).to_dataset(name='areacello')\n",
    "nhgrid.areacello.attrs['units'] = 'km^2'\n",
    "nhgrid.areacello.attrs['long_name'] = 'grid_cell_area'\n",
    "nhgrid.attrs['description'] = 'grid cell area for NSIDC polar stereographic grid 25km, Northern Hemisphere'\n",
    "\n",
    "shgrid = xr.DataArray(sh_area,dims=['y','x'],coords= {'ygrid':sample_ds_sh.ygrid, 'xgrid':sample_ds_sh.xgrid}).to_dataset(name='areacello')\n",
    "shgrid.areacello.attrs['units'] = 'km^2'\n",
    "shgrid.areacello.attrs['long_name'] = 'grid_cell_area'\n",
    "shgrid.attrs['description'] = 'grid cell area for NSIDC polar stereographic grid 25km, Southern Hemisphere'"
   ]
  },
  {
   "cell_type": "code",
   "execution_count": 6,
   "metadata": {},
   "outputs": [],
   "source": [
    "def compute_sia_si_nh (myfile):\n",
    "\n",
    "    ds = xr.open_dataset(datadir+myfile)\n",
    "    ds = ds[myvariables]\n",
    "    \n",
    "    flagdict = {}\n",
    "    for var in myvariables:\n",
    "        flagdict[var] = False\n",
    "        if np.count_nonzero(np.isnan(ds[var]))>0.:\n",
    "            flagdict[var] = True\n",
    "        \n",
    "    ds = ds.where(ds<2.5) # keep only valid data\n",
    "    ints = ds.where(ds>.15) # for ice extent\n",
    "    ints = ints/ints\n",
    "    sie = (ints*nhgrid.areacello).sum(dim=('y','x'))/1e6\n",
    "    sia = (ds*nhgrid.areacello).sum(dim=('y','x'))/1e6\n",
    "    \n",
    "    \n",
    "    \n",
    "    for var in myvariables: # if any variables has NaNs, set SIE and SIA to NaN\n",
    "        if flagdict[var]:\n",
    "            sia[var].values = [np.nan]\n",
    "            sie[var].values = [np.nan]\n",
    "\n",
    "    sia = sia.rename({'cdr_seaice_conc':'sia_nh_cdr','nsidc_bt_seaice_conc':'sia_nh_bt','nsidc_nt_seaice_conc':'sia_nh_nt'})\n",
    "    sie = sie.rename({'cdr_seaice_conc':'sie_nh_cdr','nsidc_bt_seaice_conc':'sie_nh_bt','nsidc_nt_seaice_conc':'sie_nh_nt'})\n",
    "\n",
    "    sids = xr.merge([sia, sie])\n",
    "    for var in sids:\n",
    "        sids[var].attrs['units'] = 'million km^2'\n",
    "    sids.attrs = ds.attrs\n",
    "    sids.attrs['processed'] = 'SIA and SIE computed by Lettie Roach, 2021'\n",
    "    sids = sids.rename({'tdim':'time'})\n",
    "\n",
    "    \n",
    "    return sids\n",
    "\n",
    "\n",
    "def compute_sia_si_sh (myfile):\n",
    "\n",
    "    ds = xr.open_dataset(datadir+myfile)\n",
    "    ds = ds[myvariables]\n",
    "    \n",
    "    flagdict = {}\n",
    "    for var in myvariables:\n",
    "        flagdict[var] = False\n",
    "        if np.count_nonzero(np.isnan(ds[var]))>0.:\n",
    "            flagdict[var] = True\n",
    "        \n",
    "\n",
    "    ds = ds.where(ds<2.5) # keep only valid data\n",
    "    ints = ds.where(ds>.15) # for ice extent\n",
    "    ints = ints/ints\n",
    "    sie = (ints*shgrid.areacello).sum(dim=('y','x'))/1e6\n",
    "    sia = (ds*shgrid.areacello).sum(dim=('y','x'))/1e6\n",
    "    \n",
    "    for var in myvariables: # if any variables has NaNs, set SIE and SIA to NaN\n",
    "        if flagdict[var]:\n",
    "            sia[var].values = [np.nan]\n",
    "            sie[var].values = [np.nan]\n",
    "\n",
    "    sia = sia.rename({'cdr_seaice_conc':'sia_sh_cdr','nsidc_bt_seaice_conc':'sia_sh_bt','nsidc_nt_seaice_conc':'sia_sh_nt'})\n",
    "    sie = sie.rename({'cdr_seaice_conc':'sie_sh_cdr','nsidc_bt_seaice_conc':'sie_sh_bt','nsidc_nt_seaice_conc':'sie_sh_nt'})\n",
    "\n",
    "    sids = xr.merge([sia, sie])\n",
    "    for var in sids:\n",
    "        sids[var].attrs['units'] = 'million km^2'\n",
    "    sids.attrs = ds.attrs\n",
    "    sids.attrs['processed'] = 'SIA and SIE computed by Lettie Roach, 2021'\n",
    "    sids = sids.rename({'tdim':'time'})\n",
    "\n",
    "    \n",
    "    return sids\n"
   ]
  },
  {
   "cell_type": "code",
   "execution_count": 7,
   "metadata": {},
   "outputs": [
    {
     "name": "stdout",
     "output_type": "stream",
     "text": [
      "1979\n",
      "1980\n",
      "1981\n",
      "1982\n",
      "1983\n",
      "1984\n",
      "1985\n",
      "1986\n",
      "1987\n",
      "1988\n",
      "1989\n",
      "1990\n",
      "1991\n",
      "1992\n",
      "1993\n",
      "1994\n",
      "1995\n",
      "1996\n",
      "1997\n",
      "1998\n",
      "1999\n",
      "2000\n",
      "2001\n",
      "2002\n",
      "2003\n",
      "2004\n",
      "2005\n",
      "2006\n",
      "2007\n",
      "2008\n",
      "2009\n",
      "2010\n",
      "2011\n",
      "2012\n",
      "2013\n",
      "2014\n",
      "2015\n",
      "2016\n",
      "2017\n",
      "2018\n",
      "2019\n",
      "2020\n",
      "2021\n"
     ]
    }
   ],
   "source": [
    "for year in np.arange(1979,2022,1):\n",
    "    print(year)\n",
    "    \n",
    "    datadir = mydir+'nhdl/'+str(year)+'/'\n",
    "    myfiles = sorted(os.listdir(datadir))\n",
    "    \n",
    "    list_nh = []\n",
    "    for myfile in myfiles:\n",
    "        list_nh.append(compute_sia_si_nh (myfile))\n",
    "    sids_nh = xr.concat(list_nh,dim='time')\n",
    "        \n",
    "    list_sh = []\n",
    "    datadir = mydir+'shdl/'+str(year)+'/'\n",
    "    myfiles = [f for f in sorted(os.listdir(datadir)) if '.nc' in f]\n",
    "    for myfile in myfiles:\n",
    "        list_sh.append(compute_sia_si_sh (myfile))\n",
    "    sids_sh = xr.concat(list_sh,dim='time')\n",
    "        \n",
    "    outds = xr.merge([sids_nh, sids_sh])\n",
    "   \n",
    "    outds.to_netcdf(mydir+'/processed/sia_cdr_daily_nhsh_'+str(year)+'_f17_v04r00.nc')"
   ]
  },
  {
   "cell_type": "code",
   "execution_count": null,
   "metadata": {},
   "outputs": [],
   "source": []
  }
 ],
 "metadata": {
  "kernelspec": {
   "display_name": "Python [conda env:anaconda3-myenv]",
   "language": "python",
   "name": "conda-env-anaconda3-myenv-py"
  },
  "language_info": {
   "codemirror_mode": {
    "name": "ipython",
    "version": 3
   },
   "file_extension": ".py",
   "mimetype": "text/x-python",
   "name": "python",
   "nbconvert_exporter": "python",
   "pygments_lexer": "ipython3",
   "version": "3.8.5"
  }
 },
 "nbformat": 4,
 "nbformat_minor": 4
}
